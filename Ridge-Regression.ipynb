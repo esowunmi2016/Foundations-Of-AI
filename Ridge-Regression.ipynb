{
  "cells": [
    {
      "cell_type": "markdown",
      "metadata": {
        "id": "view-in-github",
        "colab_type": "text"
      },
      "source": [
        "<a href=\"https://colab.research.google.com/github/esowunmi2016/Foundations-Of-AI/blob/main/Untitled4.ipynb\" target=\"_parent\"><img src=\"https://colab.research.google.com/assets/colab-badge.svg\" alt=\"Open In Colab\"/></a>"
      ]
    },
    {
      "cell_type": "markdown",
      "metadata": {
        "id": "qz5YfcVA3dOF"
      },
      "source": [
        "You will need to upload the dredit data as df to run the code and its a top down apporach from there"
      ]
    },
    {
      "cell_type": "code",
      "execution_count": null,
      "metadata": {
        "colab": {
          "background_save": true
        },
        "id": "F5PYCN1vyHT4"
      },
      "outputs": [],
      "source": [
        "from google.colab import files\n",
        "\n",
        "uploaded = files.upload()"
      ]
    },
    {
      "cell_type": "code",
      "execution_count": null,
      "metadata": {
        "id": "XcRftEEZsXyz"
      },
      "outputs": [],
      "source": [
        "import io\n",
        "import pandas as pd\n",
        "import numpy as np\n",
        "\n",
        "df = pd.read_csv(io.BytesIO(uploaded['Credit_N400_p9.csv']))\n",
        "# print(df)"
      ]
    },
    {
      "cell_type": "code",
      "execution_count": null,
      "metadata": {
        "id": "SaWLYYfapv1l"
      },
      "outputs": [],
      "source": [
        "# RANDOMLY INITIATED PARAMETER VECTOR (slope vector) \n",
        "import random\n",
        "\n",
        "slopeV = []\n",
        "\n",
        "for x in range(9):\n",
        "  slopeV.append(random.random())  \n",
        "\n",
        "slopeV = np.array(slopeV)\n",
        "# print(slopeV)"
      ]
    },
    {
      "cell_type": "code",
      "execution_count": null,
      "metadata": {
        "id": "75zGO29ade6w"
      },
      "outputs": [],
      "source": [
        "def dmat_prep(dmat):\n",
        "  dmat = dmat.drop('Balance', axis=1)\n",
        "  dmat['Gender'] = dmat['Gender'].transform(lambda x: 1 if x == 'Male' else 0)\n",
        "  dmat['Student'] = dmat['Student'].transform(lambda x: 1 if x == 'Yes' else 0)\n",
        "  dmat['Married'] = dmat['Married'].transform(lambda x: 1 if x == 'Yes' else 0)\n",
        "\n",
        "  # Center and standardise \n",
        "  for x in ['Income', 'Limit', 'Rating', 'Cards', 'Age', 'Education', 'Gender', 'Student', 'Married']:\n",
        "    dmat[x] = dmat[x].transform(lambda x: (x-x.mean())/x.std())\n",
        "\n",
        "  # print(dmat)\n",
        "  return(dmat.to_numpy())\n",
        "\n",
        "# dmat = prep_dmat(df)"
      ]
    },
    {
      "cell_type": "code",
      "execution_count": null,
      "metadata": {
        "id": "ylKpq6Sstb69"
      },
      "outputs": [],
      "source": [
        "# Response Vector (Centered)\n",
        "def rvec_prep(df):\n",
        "  rvec = df['Balance'].transform(lambda x: x - x.mean()).to_numpy()\n",
        "  return(rvec)\n"
      ]
    },
    {
      "cell_type": "code",
      "execution_count": null,
      "metadata": {
        "id": "0m6P6n3uglph"
      },
      "outputs": [],
      "source": [
        "def beta_hat(x, y):\n",
        "  # 𝛽 ≔ 𝛽 − 2𝛼[𝜆𝛽 − 𝐗𝑇(𝐲 − 𝐗𝛽)]\n",
        "\n",
        "  # l = 10000\n",
        "  a = 0.00001\n",
        "  B = slopeV\n",
        "  # x = dmat_prep(df)\n",
        "  # y = rvec_prep(df)\n",
        "\n",
        "  lam = [.01, .1, 1, 10, 100, 1000, 10000]\n",
        "  Blist = []\n",
        "\n",
        "  # Formular translation\n",
        "  # B = B - 2*a * (l*B - np.transpose(x) @ (y - x@B))\n",
        "\n",
        "  for l in lam:\n",
        "    for i in range(100000):\n",
        "      B = B - 2*a * (l*B - np.transpose(x) @ (y - x@B))\n",
        "    Blist.append(B)\n",
        "\n",
        "  # print(Blist)\n",
        "  print(np.shape(x))\n",
        "  print(np.shape(B))\n",
        "  return(Blist)\n",
        "\n",
        "Blist = beta_hat(dmat_prep(df), rvec_prep(df))"
      ]
    },
    {
      "cell_type": "code",
      "execution_count": null,
      "metadata": {
        "colab": {
          "base_uri": "https://localhost:8080/",
          "height": 380
        },
        "id": "_cmi1nNYOeSB",
        "outputId": "78151877-1bf5-44c3-ed24-f49f13727bf7"
      },
      "outputs": [
        {
          "data": {
            "image/png": "[encoded data removed]",
            "text/plain": [
              "<Figure size 432x288 with 1 Axes>"
            ]
          },
          "metadata": {},
          "output_type": "display_data"
        }
      ],
      "source": [
        "# Deliverable 1\n",
        "import matplotlib.pyplot as plt\n",
        "\n",
        "lam = [.01, .1, 1, 10, 100, 1000, 10000]\n",
        "\n",
        "plt.plot(np.log10(lam), Blist)\n",
        "plt.title(\"Visualized Effect of Different Tuning Parameters (lambda)\")\n",
        "plt.xlabel(\"Log-Shifted Lambdas\")\n",
        "plt.ylabel(\"Features\")\n",
        "plt.legend(['Income', 'Limit', 'Rating', 'Cards', 'Age', 'Education', 'Gender', 'Student', 'Married'], loc =\"upper right\", bbox_to_anchor =(0.75, -0.15), ncol = 2)\n",
        "plt.show()\n"
      ]
    },
    {
      "cell_type": "code",
      "execution_count": null,
      "metadata": {
        "id": "XWkwYr_N5ssu"
      },
      "outputs": [],
      "source": [
        "def beta_hat2(x, y, l):\n",
        "  # 𝛽 ≔ 𝛽 − 2𝛼[𝜆𝛽 − 𝐗𝑇(𝐲 − 𝐗𝛽)]\n",
        "  # Formular translation\n",
        "  # B = B - 2*a * (l*B - np.transpose(x) @ (y - x@B))\n",
        "\n",
        "  a = 0.00001\n",
        "  B = slopeV\n",
        "\n",
        "  for i in range(100000):\n",
        "    B = B - 2*a * (l*B - np.transpose(x) @ (y - x@B))\n",
        "\n",
        "  return(B)"
      ]
    },
    {
      "cell_type": "code",
      "execution_count": null,
      "metadata": {
        "id": "7Kb5r7fAcIgo"
      },
      "outputs": [],
      "source": [
        "def fold_prep(fit, test):\n",
        "  dmat_test = test.drop('Balance', axis=1)\n",
        "  dmat_test['Gender'] = dmat_test['Gender'].transform(lambda x: 1 if x == 'Male' else 0)\n",
        "  dmat_test['Student'] = dmat_test['Student'].transform(lambda x: 1 if x == 'Yes' else 0)\n",
        "  dmat_test['Married'] = dmat_test['Married'].transform(lambda x: 1 if x == 'Yes' else 0)\n",
        " \n",
        "  dmat_fit = fit.drop('Balance', axis=1)\n",
        "  dmat_fit['Gender'] = dmat_fit['Gender'].transform(lambda x: 1 if x == 'Male' else 0)\n",
        "  dmat_fit['Student'] = dmat_fit['Student'].transform(lambda x: 1 if x == 'Yes' else 0)\n",
        "  dmat_fit['Married'] = dmat_fit['Married'].transform(lambda x: 1 if x == 'Yes' else 0)\n",
        "\n",
        "  # Center and standardise \n",
        "  for g in ['Income', 'Limit', 'Rating', 'Cards', 'Age', 'Education', 'Gender', 'Student', 'Married']:\n",
        "    dmat_fit[g] = dmat_fit[g].transform(lambda x: (x-(x.mean()))/x.std())\n",
        "    dmat_test[g] = dmat_test[g].transform(lambda x: (x-x.mean())/x.std())\n",
        "\n",
        "  dmat_fit = dmat_fit.to_numpy()\n",
        "  dmat_test = dmat_test.to_numpy()\n",
        "  rvec_fit = fit['Balance'].transform(lambda x: x - x.mean()).to_numpy()\n",
        "  rvec_test = test['Balance'].transform(lambda x: x - fit['Balance'].mean()).to_numpy()\n",
        "  # print(dmat)\n",
        "  # return(test.to_numpy())\n",
        "  return([dmat_fit, rvec_fit, dmat_test, rvec_test])\n"
      ]
    },
    {
      "cell_type": "code",
      "execution_count": null,
      "metadata": {
        "id": "LhO0BWaKIcuQ"
      },
      "outputs": [],
      "source": [
        "df1 = df.sample(frac = 1)\n",
        "\n",
        "f1 = fold_prep(df1.iloc[80:400], df1.iloc[:80])\n",
        "f2 = fold_prep(pd.concat([df1.iloc[:80], df1.iloc[160:400]]), df1.iloc[80:160])\n",
        "f3 = fold_prep(pd.concat([df1.iloc[:160], df1.iloc[240:400]]), df1.iloc[160:240])\n",
        "f4 = fold_prep(pd.concat([df1.iloc[:240], df1.iloc[320:400]]), df1.iloc[240:320])\n",
        "f5 = fold_prep(df1.iloc[:320], df1.iloc[320:400])"
      ]
    },
    {
      "cell_type": "code",
      "execution_count": null,
      "metadata": {
        "colab": {
          "base_uri": "https://localhost:8080/"
        },
        "id": "Fk78pWNA2ZhZ",
        "outputId": "aaed4598-6839-4756-e8af-71c89ce86380"
      },
      "outputs": [
        {
          "name": "stdout",
          "output_type": "stream",
          "text": [
            "15825.429976603831\n",
            "15825.429976603831\n",
            "[15068.869769517562, 15067.110190098832, 15069.335615694872, 15695.529529551926, 34177.70583613714, 108514.72437034885, 191005.48616478595]\n"
          ]
        }
      ],
      "source": [
        "\n",
        "flist = [f1, f2, f3, f4, f5]\n",
        "# h = f1[2]@b\n",
        "# MSE = np.square(np.subtract(f1[3], f1[2]@b)).mean()\n",
        "\n",
        "# lam = [.01, .1, 1, 10, 100, 1000, 10000]\n",
        "\n",
        "CVlist = []\n",
        "for y in lam:\n",
        "  g = 0\n",
        "  for x in flist:\n",
        "    b = beta_hat2(x[0], x[1], y)\n",
        "    MSE = np.square(np.subtract(x[3], x[2]@b)).mean()\n",
        "    g += MSE\n",
        "  CV = g/5\n",
        "  CVlist.append(CV)\n",
        "\n",
        "# print(CVlist)"
      ]
    },
    {
      "cell_type": "code",
      "execution_count": null,
      "metadata": {
        "colab": {
          "base_uri": "https://localhost:8080/",
          "height": 265
        },
        "id": "0Esbweicfufq",
        "outputId": "c999c0ca-582d-438b-924e-d828d5c2ab72"
      },
      "outputs": [
        {
          "data": {
            "image/png": "[encoded data removed]",
            "text/plain": [
              "<Figure size 432x288 with 1 Axes>"
            ]
          },
          "metadata": {},
          "output_type": "display_data"
        }
      ],
      "source": [
        "# Deliverable 2\n",
        "import matplotlib.pyplot as plt\n",
        "\n",
        "# lam = [.01, .1, 1, 10, 100, 1000, 10000]\n",
        "\n",
        "\n",
        "plt.plot(np.log10(lam), CVlist)\n",
        "# plt.title(\"Visualized Effect of Different Tuning Parameters (lambda) With Cross-Validation\")\n",
        "# plt.xlabel(\"Log-Shifted Lambdas\")\n",
        "# plt.ylabel(\"Cross-Validation Error\")\n",
        "plt.show()"
      ]
    },
    {
      "cell_type": "markdown",
      "metadata": {
        "id": "UFelYlIEtTE0"
      },
      "source": [
        "DELIVERABLE 3\n",
        "\n",
        "From the graph in deliverable 2, we can see that lambda = 0.01 had the lowest CV Error"
      ]
    },
    {
      "cell_type": "code",
      "execution_count": null,
      "metadata": {
        "colab": {
          "base_uri": "https://localhost:8080/"
        },
        "id": "Ikfys3wNuQAf",
        "outputId": "6c6d4439-653e-4387-f55c-1d89be1d3be9"
      },
      "outputs": [
        {
          "name": "stdout",
          "output_type": "stream",
          "text": [
            "[-274.99750054  420.06781116  196.19636325   23.4731164   -10.97882905\n",
            "   -3.35094957    5.20749056  127.94296153   -3.60029068]\n"
          ]
        }
      ],
      "source": [
        "# DELIVERABLE 4\n",
        "# the slope vector for the model using the the optimal lambda\n",
        "print(Blist[0])"
      ]
    },
    {
      "cell_type": "markdown",
      "metadata": {
        "id": "DDscgIk2uqMc"
      },
      "source": [
        "DELIVERABLE 4\n",
        "\n",
        "We can get the equation of the model trained with the optimal lambda value to be: \n",
        "\n",
        "y = Bx\n",
        "where:\n",
        "x = design matrix\n",
        "\n",
        "B = [-274.99760896  420.01984149  196.24450722   23.47104183  -10.97888191\n",
        "   -3.35069967    5.20749426  127.94267304   -3.60062073]\n",
        "\n",
        "y = prediction\n"
      ]
    },
    {
      "cell_type": "code",
      "execution_count": null,
      "metadata": {
        "id": "rq2f3e8BC6gu"
      },
      "outputs": [],
      "source": [
        "# EXTRA CREDIT\n",
        "# importing the ML packages\n",
        "from sklearn.model_selection import train_test_split\n",
        "from sklearn.model_selection import KFold\n",
        "from sklearn.model_selection import cross_val_score\n",
        "from sklearn.linear_model import Ridge\n",
        "from sklearn.linear_model import RidgeCV\n",
        "from sklearn.model_selection import RepeatedKFold\n",
        "from sklearn.metrics import mean_squared_error\n",
        "from numpy import mean\n",
        "from numpy import absolute\n",
        "from numpy import sqrt\n",
        "from numpy import arange\n",
        "\n",
        "\n",
        "\n",
        "\n",
        "X = dmat_prep(df)\n",
        "y = rvec_prep(df)\n"
      ]
    },
    {
      "cell_type": "code",
      "execution_count": null,
      "metadata": {
        "id": "bfpkHRIdLgxO"
      },
      "outputs": [],
      "source": [
        "Blist2 = []\n",
        "i = 0\n",
        "lam = [.01, .1, 1, 10, 100, 1000, 10000]\n",
        "\n",
        "for x in lam:\n",
        "  model = Ridge(alpha=x)\n",
        "  model.fit(X, y)\n",
        "  Blist2.append(model.coef_)\n",
        "  i += 1\n",
        "# print(Blist2)"
      ]
    },
    {
      "cell_type": "code",
      "execution_count": null,
      "metadata": {
        "colab": {
          "base_uri": "https://localhost:8080/",
          "height": 380
        },
        "id": "zLgp277CQWna",
        "outputId": "d537160e-c8c6-4446-dd3a-5ae4d2cb4972"
      },
      "outputs": [
        {
          "data": {
            "image/png": "[encoded data removed]",
            "text/plain": [
              "<Figure size 432x288 with 1 Axes>"
            ]
          },
          "metadata": {},
          "output_type": "display_data"
        }
      ],
      "source": [
        "# DELIVERABLE 1 WITH MACHINE LEARNING MODUE (sklearn)\n",
        "\n",
        "import matplotlib.pyplot as plt\n",
        "\n",
        "lam = [.01, .1, 1, 10, 100, 1000, 10000]\n",
        "\n",
        "plt.plot(np.log10(lam), Blist2)\n",
        "plt.title(\"Visualized Effect of Different Tuning Parameters (lambda)\")\n",
        "plt.xlabel(\"Log-Shifted Lambdas\")\n",
        "plt.ylabel(\"Features\")\n",
        "plt.legend(['Income', 'Limit', 'Rating', 'Cards', 'Age', 'Education', 'Gender', 'Student', 'Married'], loc =\"upper right\", bbox_to_anchor =(0.75, -0.15), ncol = 2)\n",
        "plt.show()"
      ]
    },
    {
      "cell_type": "code",
      "execution_count": null,
      "metadata": {
        "id": "7gEC22znOSED"
      },
      "outputs": [],
      "source": [
        "# Extra Credit assignment 2 & 3\n",
        "\n",
        "# MSE = mean_squared_error(f1[3], f1[2]@b)\n"
      ]
    },
    {
      "cell_type": "code",
      "execution_count": null,
      "metadata": {
        "colab": {
          "base_uri": "https://localhost:8080/"
        },
        "id": "0zpGgAWOJ-Yc",
        "outputId": "0bccc942-9bde-41a9-8ba0-d45bed1c36fb"
      },
      "outputs": [
        {
          "name": "stdout",
          "output_type": "stream",
          "text": [
            "0.01\n"
          ]
        }
      ],
      "source": [
        "# Extra Credit Deliverable 4 \n",
        "\n",
        "\n",
        "#define cross-validation method to use\n",
        "cv = KFold(n_splits=5)\n",
        "\n",
        "#define model\n",
        "model = RidgeCV(alphas=lam, cv=None, scoring='neg_mean_absolute_error', fit_intercept=False, store_cv_values=True)\n",
        "\n",
        "#fit model\n",
        "model.fit(X, y)\n",
        "\n",
        "#display lambda that produced the lowest test MSE\n",
        "print(model.alpha_)\n",
        "\n",
        "# print(model.coef_)\n",
        "\n",
        "# np.shape(model.cv_values_)\n",
        "# model.cv_values_"
      ]
    }
  ],
  "metadata": {
    "colab": {
      "provenance": [],
      "include_colab_link": true
    },
    "kernelspec": {
      "display_name": "Python 3",
      "name": "python3"
    },
    "language_info": {
      "name": "python"
    }
  },
  "nbformat": 4,
  "nbformat_minor": 0
}
